{
 "cells": [
  {
   "cell_type": "markdown",
   "metadata": {},
   "source": [
    "# I. Generate all lattice walks, 2D square lattice"
   ]
  },
  {
   "cell_type": "code",
   "execution_count": 25,
   "metadata": {},
   "outputs": [],
   "source": [
    "# This I showed in class:\n",
    "\n",
    "steps = [(1, 0), (-1, 0), (0, 1), (0, -1)]\n",
    "\n",
    "def generate_walks(path, L):\n",
    "    \"\"\"Generate all random walks on the 2D square lattice.\"\"\"\n",
    "    if L == 0:\n",
    "        print(path)\n",
    "    else:\n",
    "        for dx, dy in steps:\n",
    "            x, y = path[-1]\n",
    "            pp = path.copy()\n",
    "            pp.append((x + dx, y + dy))\n",
    "            generate_walks(pp, L - 1)"
   ]
  },
  {
   "cell_type": "code",
   "execution_count": 26,
   "metadata": {},
   "outputs": [
    {
     "name": "stdout",
     "output_type": "stream",
     "text": [
      "[(0, 0), (1, 0), (2, 0)]\n",
      "[(0, 0), (1, 0), (0, 0)]\n",
      "[(0, 0), (1, 0), (1, 1)]\n",
      "[(0, 0), (1, 0), (1, -1)]\n",
      "[(0, 0), (-1, 0), (0, 0)]\n",
      "[(0, 0), (-1, 0), (-2, 0)]\n",
      "[(0, 0), (-1, 0), (-1, 1)]\n",
      "[(0, 0), (-1, 0), (-1, -1)]\n",
      "[(0, 0), (0, 1), (1, 1)]\n",
      "[(0, 0), (0, 1), (-1, 1)]\n",
      "[(0, 0), (0, 1), (0, 2)]\n",
      "[(0, 0), (0, 1), (0, 0)]\n",
      "[(0, 0), (0, -1), (1, -1)]\n",
      "[(0, 0), (0, -1), (-1, -1)]\n",
      "[(0, 0), (0, -1), (0, 0)]\n",
      "[(0, 0), (0, -1), (0, -2)]\n"
     ]
    }
   ],
   "source": [
    "generate_walks([(0, 0)], 2)"
   ]
  },
  {
   "cell_type": "markdown",
   "metadata": {},
   "source": [
    "## Store the walks\n",
    "\n",
    "Printing walks is nice, but not very useful. Better construct a list of all walks, for postprocessing. To this end, add a `cache` parameter, which stores all generated walks."
   ]
  },
  {
   "cell_type": "code",
   "execution_count": 27,
   "metadata": {},
   "outputs": [],
   "source": [
    "\n",
    "\n",
    "steps = [(1, 0), (-1, 0), (0, 1), (0, -1)]\n",
    "\n",
    "\n",
    "def generate_walks_stored(path, L, cache):\n",
    "    if L == 0:\n",
    "        cache.append(path)\n",
    "    else:\n",
    "        for dx, dy in steps:\n",
    "            x, y = path[-1]\n",
    "            xy_new = (x + dx, y + dy)\n",
    "            pp = path.copy()\n",
    "            pp.append(xy_new)\n",
    "            generate_walks_stored(pp, L - 1, cache)\n",
    "                \n",
    "            "
   ]
  },
  {
   "cell_type": "code",
   "execution_count": 30,
   "metadata": {},
   "outputs": [
    {
     "data": {
      "text/plain": [
       "16777216"
      ]
     },
     "execution_count": 30,
     "metadata": {},
     "output_type": "execute_result"
    }
   ],
   "source": [
    "\n",
    "cache = []\n",
    "generate_walks_stored([(0, 0)], 12, cache)\n",
    "len(cache)\n",
    "\n",
    "\n",
    "\n",
    "        "
   ]
  },
  {
   "cell_type": "code",
   "execution_count": 44,
   "metadata": {},
   "outputs": [
    {
     "data": {
      "text/plain": [
       "[[(0, 0), (1, 0), (2, 0)],\n",
       " [(0, 0), (1, 0), (0, 0)],\n",
       " [(0, 0), (1, 0), (1, 1)],\n",
       " [(0, 0), (1, 0), (1, -1)],\n",
       " [(0, 0), (-1, 0), (0, 0)],\n",
       " [(0, 0), (-1, 0), (-2, 0)],\n",
       " [(0, 0), (-1, 0), (-1, 1)],\n",
       " [(0, 0), (-1, 0), (-1, -1)],\n",
       " [(0, 0), (0, 1), (1, 1)],\n",
       " [(0, 0), (0, 1), (-1, 1)],\n",
       " [(0, 0), (0, 1), (0, 2)],\n",
       " [(0, 0), (0, 1), (0, 0)],\n",
       " [(0, 0), (0, -1), (1, -1)],\n",
       " [(0, 0), (0, -1), (-1, -1)],\n",
       " [(0, 0), (0, -1), (0, 0)],\n",
       " [(0, 0), (0, -1), (0, -2)]]"
      ]
     },
     "execution_count": 44,
     "metadata": {},
     "output_type": "execute_result"
    }
   ],
   "source": [
    "cache"
   ]
  },
  {
   "cell_type": "markdown",
   "metadata": {},
   "source": [
    "## Task 0\n",
    "\n",
    "Compute the average end-to-end distance of random walks of a given length. What is the scaling of the end-to-end distance with the length of the walk? What is the scaling of the mean *square* end-to-end distance with the length?"
   ]
  },
  {
   "cell_type": "markdown",
   "metadata": {},
   "source": [
    "<font color='red'> (See in the papers, prove) </font>"
   ]
  },
  {
   "cell_type": "code",
   "execution_count": 32,
   "metadata": {},
   "outputs": [
    {
     "name": "stdout",
     "output_type": "stream",
     "text": [
      "22.806540172036584\n"
     ]
    },
    {
     "data": {
      "text/plain": [
       "\"\\nAverage End-to-end dist = sqrt(n), n = Length of the walk\\nProof:\\nSuppose we have a random walk of n steps of length 1. Each step has both x component and y component.\\nThus total x distance after n steps is equal to delta_x = x1 + x2 +...xn and the same is for y distance:\\ndelta_y = sum(yi) for i = 1...n. Thanks to Pifagor, we can find the needed magnitude just by taking square root\\nof (delta_x + delta_y) which is actually a hypotenuse of a triangle with delta_x and delta_y sides. However, if we are to\\ncompute an average end-to-end distance say of M walks length n each, it is clear that in case of large M\\nthe average delta_x and delta_y ---> 0 because at each step there are equal probabilities to go up as to the down and left as\\nto the right. Mean square end-to-end distance solves this issue as it operates by squares of magnitudes (always positive)\\n= > let's take it over M walks and then take a square root to get an answer.\\nMS = (delta_x1 + delta_x2 + ... + delta_xn)^2 + (delta_y1 + ...delta_yn)^2. Cross terms e.g. delta_x1*delta_x2 will vanish\\n(as they have equal probabilities to be positive or negative) = > approximately MS = (delta_x1^2 + delta_y1^2) + ... (delta_x1^n + delta_y1^n)\\nbut each bracket is equal to the length of one step = 1. Since we have n elements, MS = n and average end-to-end dist = sqrt(n).\\n\\nIn given example with 2 steps we got a different result because it's a very small n. Statistically, the bigger is n, the closer\\nwe are to the average. \\n\""
      ]
     },
     "execution_count": 32,
     "metadata": {},
     "output_type": "execute_result"
    }
   ],
   "source": [
    "from statistics import mean\n",
    "import math\n",
    "\n",
    "def get_avg_dist(cache):\n",
    "    \"\"\"Рассчитывает среднее end-to-end расстояние по сформированному хешу\"\"\"\n",
    "    distances = []\n",
    "    for k in cache:\n",
    "        delta_x = 0\n",
    "        delta_y = 0\n",
    "        for j in k:\n",
    "            xi = j[0]\n",
    "            yi = j[1]\n",
    "            delta_x += xi\n",
    "            delta_y += yi\n",
    "        dist = math.sqrt(delta_x**2 + delta_y**2)\n",
    "        distances.append(dist)\n",
    "    return mean(distances) \n",
    "    \n",
    "print(get_avg_dist(cache))  \n",
    "\n",
    "\"\"\"\n",
    "Average End-to-end dist = sqrt(n), n = Length of the walk\n",
    "Proof:\n",
    "Suppose we have a random walk of n steps of length 1. Each step has both x component and y component.\n",
    "Thus total x distance after n steps is equal to delta_x = x1 + x2 +...xn and the same is for y distance:\n",
    "delta_y = sum(yi) for i = 1...n. Thanks to Pifagor, we can find the needed magnitude just by taking square root\n",
    "of (delta_x + delta_y) which is actually a hypotenuse of a triangle with delta_x and delta_y sides. However, if we are to\n",
    "compute an average end-to-end distance say of M walks length n each, it is clear that in case of large M\n",
    "the average delta_x and delta_y ---> 0 because at each step there are equal probabilities to go up as to the down and left as\n",
    "to the right. Mean square end-to-end distance solves this issue as it operates by squares of magnitudes (always positive)\n",
    "= > let's take it over M walks and then take a square root to get an answer.\n",
    "MS = (delta_x1 + delta_x2 + ... + delta_xn)^2 + (delta_y1 + ...delta_yn)^2. Cross terms e.g. delta_x1*delta_x2 will vanish\n",
    "(as they have equal probabilities to be positive or negative) = > approximately MS = (delta_x1^2 + delta_y1^2) + ... (delta_x1^n + delta_y1^n)\n",
    "but each bracket is equal to the length of one step = 1. Since we have n elements, MS = n and average end-to-end dist = sqrt(n).\n",
    "\n",
    "In given example with 2 steps we got a different result because it's a very small n. Statistically, the bigger is n, the closer\n",
    "we are to the average. \n",
    "\"\"\"\n"
   ]
  },
  {
   "cell_type": "markdown",
   "metadata": {},
   "source": [
    "# I. Generate all SAWs on a 2D square lattice\n",
    "\n",
    "A self-avoiding walk is a random walk where a lattice site can only be visited once."
   ]
  },
  {
   "cell_type": "code",
   "execution_count": 9,
   "metadata": {},
   "outputs": [
    {
     "name": "stdout",
     "output_type": "stream",
     "text": [
      "39.1395664184948\n"
     ]
    }
   ],
   "source": [
    "steps = [(1, 0), (-1, 0), (0, 1), (0, -1)]\n",
    "\n",
    "def generate_SAW(path, L, cache):\n",
    "    if L == 0:\n",
    "        cache.append(path)\n",
    "    else:\n",
    "        for dx, dy in steps:\n",
    "            x, y = path[-1]\n",
    "            xy_new = (x + dx, y + dy)\n",
    "            pp = path.copy()\n",
    "            if not xy_new in pp:\n",
    "                pp.append(xy_new)\n",
    "                generate_SAW(pp, L - 1, cache)\n",
    "            else:\n",
    "                continue\n",
    "cache = []\n",
    "generate_SAW([(0,0)], 12, cache)\n",
    "print(get_avg_dist(cache))  "
   ]
  },
  {
   "cell_type": "markdown",
   "metadata": {},
   "source": [
    "## Task 1\n",
    "\n",
    "How many walks of a given length are there? What is the mean end-to-end distance of walks of a given length? What is mean *square* of the end-to-end distance?"
   ]
  },
  {
   "cell_type": "markdown",
   "metadata": {},
   "source": [
    "<font color='red'> (See in the papers, prove) </font>"
   ]
  },
  {
   "cell_type": "code",
   "execution_count": 1,
   "metadata": {},
   "outputs": [
    {
     "data": {
      "text/plain": [
       "'\\nNumber of SAW_RW ≈ u^n, where u ≈ 2.64 for 2-dimensional lattice.  \\n\\nThe average end-to-end-distance of n-steps SAW_RW is n^(3/4) for 2-dimensional lattice of any form. The general formula is:\\navg_d = n^(3/(d+2)) for d <= 4 (d - dimension),\\navg_d = n^(1/2) for d >= 4\\nThere is no rigourous proof of this ratio but for d = 2 there exist accurate numerical sumulations.\\n\\nThere is no exact estimations for Mean square end-to-end distance (MS) but it seems obvious that MS >= O(n) because\\n\\nLiterature used: https://personal.psu.edu/vxs137/MASS14/coll_Lawler.pdf\\nhttps://www.math.ubc.ca/~slade/intelligencer.pdf\\n'"
      ]
     },
     "execution_count": 1,
     "metadata": {},
     "output_type": "execute_result"
    }
   ],
   "source": [
    "'''\n",
    "Number of SAW_RW ≈ u^n, where u ≈ 2.64 for 2-dimensional lattice.  \n",
    "\n",
    "The average end-to-end-distance of n-steps SAW_RW is n^(3/4) for 2-dimensional lattice of any form. The general formula is:\n",
    "avg_d = n^(3/(d+2)) for d <= 4 (d - dimension),\n",
    "avg_d = n^(1/2) for d >= 4\n",
    "There is no rigourous proof of this ratio but for d = 2 there exist accurate numerical sumulations.\n",
    "\n",
    "There is no exact estimations for Mean square end-to-end distance (MS) but it seems obvious that MS >= O(n) because\n",
    "self-avoiding constraint should forse the process to go further from the starting point than in ordinary RW. \n",
    "\n",
    "Literature used: https://personal.psu.edu/vxs137/MASS14/coll_Lawler.pdf\n",
    "https://www.math.ubc.ca/~slade/intelligencer.pdf\n",
    "'''\n",
    "\n"
   ]
  },
  {
   "cell_type": "markdown",
   "metadata": {},
   "source": [
    "## Extra tasks (for fun, no credit, a possible basis of a course project)\n",
    "\n",
    "1. Generate a self-avoiding walk on triangular lattice.\n",
    "2. Rewrite the recursive algorithm to use a queue."
   ]
  },
  {
   "cell_type": "code",
   "execution_count": null,
   "metadata": {},
   "outputs": [],
   "source": []
  },
  {
   "cell_type": "code",
   "execution_count": null,
   "metadata": {},
   "outputs": [],
   "source": []
  }
 ],
 "metadata": {
  "kernelspec": {
   "display_name": "Python 3",
   "language": "python",
   "name": "python3"
  },
  "language_info": {
   "codemirror_mode": {
    "name": "ipython",
    "version": 3
   },
   "file_extension": ".py",
   "mimetype": "text/x-python",
   "name": "python",
   "nbconvert_exporter": "python",
   "pygments_lexer": "ipython3",
   "version": "3.6.7"
  }
 },
 "nbformat": 4,
 "nbformat_minor": 2
}
