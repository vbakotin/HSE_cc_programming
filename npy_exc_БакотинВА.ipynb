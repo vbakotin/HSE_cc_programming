{
 "cells": [
  {
   "cell_type": "markdown",
   "metadata": {},
   "source": [
    "# `numpy` practice"
   ]
  },
  {
   "cell_type": "code",
   "execution_count": 2,
   "metadata": {},
   "outputs": [],
   "source": [
    "import numpy as np"
   ]
  },
  {
   "cell_type": "markdown",
   "metadata": {},
   "source": [
    "1. Do numpy exercises 6, 8, 9 and 19.\n",
    "\n",
    "1. numpy exercise 44.\n",
    "\n",
    "1. A snail curve is defined by the following equation in polar coordinates: $r = a + \\cos\\phi$. Plot the curve on an $x$-$y$ plane for several values of $a$. (Hint: `np.linspace` creates a linearly spaced array of values)\n",
    "\n",
    "2. A *cochleoid* curve is defined by the following equation in polar coordinates: $r = a \\dfrac{\\sin\\phi} {\\phi }$. Plot the curve on an $x$-$y$ plane. (This time, use `np.where` to work around division by zero).\n",
    "\n",
    "3. Given two arrays, `u` and `v`, construct the Cauchy matrix using 1) explicit broadcasting, and 2) `subtract.outer` attribute.\n",
    "\n",
    "4. See \"Monte Carlo Error propagation\" (separate html)"
   ]
  },
  {
   "cell_type": "markdown",
   "metadata": {
    "collapsed": true
   },
   "source": [
    "N. Rougier, *Numpy 100 excercises*, https://github.com/rougier/numpy-100/blob/master/100_Numpy_exercises_no_solution.md"
   ]
  },
  {
   "cell_type": "code",
   "execution_count": 5,
   "metadata": {},
   "outputs": [
    {
     "data": {
      "text/plain": [
       "array([0., 0., 0., 0., 1., 0., 0., 0., 0., 0.])"
      ]
     },
     "execution_count": 5,
     "metadata": {},
     "output_type": "execute_result"
    }
   ],
   "source": [
    "# task 6\n",
    "a = np.zeros(10)\n",
    "a[4] = 1\n",
    "a"
   ]
  },
  {
   "cell_type": "code",
   "execution_count": 8,
   "metadata": {},
   "outputs": [
    {
     "data": {
      "text/plain": [
       "array([0., 0., 0., 0., 0., 1., 0., 0., 0., 0.])"
      ]
     },
     "execution_count": 8,
     "metadata": {},
     "output_type": "execute_result"
    }
   ],
   "source": [
    "# task 8\n",
    "b = a[::-1]\n",
    "b"
   ]
  },
  {
   "cell_type": "code",
   "execution_count": 10,
   "metadata": {},
   "outputs": [
    {
     "data": {
      "text/plain": [
       "array([[0, 1, 2],\n",
       "       [3, 4, 5],\n",
       "       [6, 7, 8]])"
      ]
     },
     "execution_count": 10,
     "metadata": {},
     "output_type": "execute_result"
    }
   ],
   "source": [
    "# task 9\n",
    "m = np.arange(9).reshape(3, -1)\n",
    "m"
   ]
  },
  {
   "cell_type": "code",
   "execution_count": 20,
   "metadata": {},
   "outputs": [
    {
     "data": {
      "text/plain": [
       "array([[1, 0, 1, 0, 1, 0, 1, 0],\n",
       "       [0, 1, 0, 1, 0, 1, 0, 1],\n",
       "       [1, 0, 1, 0, 1, 0, 1, 0],\n",
       "       [0, 1, 0, 1, 0, 1, 0, 1],\n",
       "       [1, 0, 1, 0, 1, 0, 1, 0],\n",
       "       [0, 1, 0, 1, 0, 1, 0, 1],\n",
       "       [1, 0, 1, 0, 1, 0, 1, 0],\n",
       "       [0, 1, 0, 1, 0, 1, 0, 1]])"
      ]
     },
     "execution_count": 20,
     "metadata": {},
     "output_type": "execute_result"
    }
   ],
   "source": [
    "# task 19\n",
    "r = np.array(([1, 0] * 4 + [0, 1] * 4) * 4).reshape((8, 8))\n",
    "r"
   ]
  },
  {
   "cell_type": "code",
   "execution_count": 34,
   "metadata": {},
   "outputs": [
    {
     "data": {
      "text/plain": [
       "array([[0.65092167, 1.27214855],\n",
       "       [0.89910716, 1.06231974],\n",
       "       [0.82623785, 0.3362191 ],\n",
       "       [0.84819306, 1.23878522],\n",
       "       [1.29818681, 0.74060617],\n",
       "       [0.61565357, 0.95059494],\n",
       "       [0.98745418, 0.80633754],\n",
       "       [0.67232937, 0.98759553],\n",
       "       [0.50327154, 0.02736131],\n",
       "       [1.17316515, 0.85163559]])"
      ]
     },
     "execution_count": 34,
     "metadata": {},
     "output_type": "execute_result"
    }
   ],
   "source": [
    "def convert(vec):\n",
    "    x = vec[0]\n",
    "    y = vec[1]\n",
    "    r = np.sqrt(x ** 2 + y ** 2)\n",
    "    angle = np.arctan2(y, x)\n",
    "    return (r, angle)\n",
    "\n",
    "np.random.seed(1234)  \n",
    "m = np.random.random(size=20).reshape(10, 2)\n",
    "o = np.apply_along_axis(convert, 1, m)\n",
    "o\n"
   ]
  },
  {
   "cell_type": "code",
   "execution_count": 9,
   "metadata": {},
   "outputs": [
    {
     "data": {
      "image/png": "[encoded data removed]",
      "text/plain": [
       "<Figure size 432x288 with 1 Axes>"
      ]
     },
     "metadata": {
      "needs_background": "light"
     },
     "output_type": "display_data"
    }
   ],
   "source": [
    "# task 3 (snail curve)\n",
    "phi = np.linspace(-2*np.pi, 2*np.pi, 201) \n",
    "a = np.linspace(-2*np.pi, 2*np.pi, 201)\n",
    "r = a + np.cos(phi) \n",
    "\n",
    "x = r * np.cos(phi)\n",
    "y = r * np.sin(phi)\n",
    "\n",
    "import matplotlib.pyplot as plt\n",
    "%matplotlib inline\n",
    "plt.plot(x, y)\n",
    "plt.show()"
   ]
  },
  {
   "cell_type": "code",
   "execution_count": 55,
   "metadata": {},
   "outputs": [
    {
     "data": {
      "image/png": "[encoded data removed]",
      "text/plain": [
       "<Figure size 432x288 with 1 Axes>"
      ]
     },
     "metadata": {
      "needs_background": "light"
     },
     "output_type": "display_data"
    }
   ],
   "source": [
    "# task 4\n",
    "phi = np.linspace(-2*np.pi, 2*np.pi, 201) #arange - для целочисленных, linspace - для всего чего угодно \n",
    "a = np.linspace(-2*np.pi, 2*np.pi, 201) - np.pi\n",
    "phi = phi[np.where(phi != 0)]\n",
    "\n",
    "r = a * np.sin(phi) / phi\n",
    "x = r * np.cos(phi)\n",
    "y = r * np.sin(phi)\n",
    "\n",
    "import matplotlib.pyplot as plt\n",
    "%matplotlib inline\n",
    "plt.plot(x, y)\n",
    "plt.show()\n"
   ]
  },
  {
   "cell_type": "code",
   "execution_count": 62,
   "metadata": {},
   "outputs": [
    {
     "name": "stdout",
     "output_type": "stream",
     "text": [
      "[[-2.    -0.667 -0.4   -0.286]\n",
      " [ 2.    -2.    -0.667 -0.4  ]\n",
      " [ 0.667  2.    -2.    -0.667]\n",
      " [ 0.4    0.667  2.    -2.   ]]\n",
      "[[-2.    -0.667 -0.4   -0.286]\n",
      " [ 2.    -2.    -0.667 -0.4  ]\n",
      " [ 0.667  2.    -2.    -0.667]\n",
      " [ 0.4    0.667  2.    -2.   ]]\n"
     ]
    }
   ],
   "source": [
    "# task 5 \n",
    "np.set_printoptions(precision=3)    # pretty up printing\n",
    "u = np.arange(4)\n",
    "v = u + 0.5\n",
    "    \n",
    "# substract outer\n",
    "A_ = 1.0 / np.subtract.outer(u, v)\n",
    "print(A_)\n",
    "# broadcasting\n",
    "A_ = 1.0 / (u[:, None] - v)\n",
    "print(A_)\n"
   ]
  },
  {
   "cell_type": "code",
   "execution_count": 30,
   "metadata": {},
   "outputs": [
    {
     "name": "stdout",
     "output_type": "stream",
     "text": [
      "3.175741399862462e+19\n"
     ]
    }
   ],
   "source": [
    "import cmath, math\n",
    "G = 6.67384 * 1e+11\n",
    "M1 = 40 * 1e+4\n",
    "M2 = 30 * 1e+4\n",
    "r = 3.2\n",
    "d_M1 = 0.05 * 1e+4\n",
    "d_M2 = 0.1 * 1e+4\n",
    "d_r = 0.01\n",
    "def force(G,M1,M2,r):\n",
    "    \"\"\"given constant G and variables of masses M1, M2\n",
    "    and distance r computes the resulting force G \"\"\"\n",
    "    return (G * M1 * M2) / (np.power(r, 2))\n",
    " \n",
    "force_1 = force(G, M1, M2, r)\n",
    "\n",
    "delta_prop_nom = (math.sqrt(np.power((d_M1 / M1), 2) + np.power((d_M2 / M2), 2))) * G * M1 * M2\n",
    "delta_prop_denom = (2 * d_r / r) * r\n",
    "dp = math.sqrt((delta_prop_nom / (G * M1 * M2))**2 + (delta_prop_denom / (np.power(r, 2))) ** 2) * force_1\n",
    "print(dp)\n",
    "\n",
    "rndm = np.random.RandomState(1234)\n",
    "M11 = rndm.normal(loc=M1, scale=d_M1, size=1000000)\n",
    "M12 = rndm.normal(loc=M2, scale=d_M2, size=1000000)\n",
    "r1 = rndm.normal(loc=r, scale=d_r, size=1000000)"
   ]
  },
  {
   "cell_type": "code",
   "execution_count": 31,
   "metadata": {},
   "outputs": [],
   "source": [
    "vforce = np.vectorize(force)\n",
    "forces = vforce(G, M11, M12, r1)"
   ]
  },
  {
   "cell_type": "code",
   "execution_count": 32,
   "metadata": {},
   "outputs": [
    {
     "data": {
      "image/png": "[encoded data removed]",
      "text/plain": [
       "<Figure size 432x288 with 1 Axes>"
      ]
     },
     "metadata": {
      "needs_background": "light"
     },
     "output_type": "display_data"
    }
   ],
   "source": [
    "g = plt.hist(forces, bins=1500, color = \"skyblue\")\n",
    "g = plt.hist(np.random.normal(force_1, dp, 1000000), bins=1500)\n"
   ]
  },
  {
   "cell_type": "code",
   "execution_count": 53,
   "metadata": {},
   "outputs": [],
   "source": [
    "# experiment with new values\n",
    "\n",
    "d_M21 = 2 * 1e+4\n",
    "d_M22 = 10 * 1e+4\n",
    "d_r2 = 1\n",
    "M21 = rndm.normal(loc=M1, scale=d_M21, size=1000000)\n",
    "M22 = rndm.normal(loc=M2, scale=d_M22, size=1000000)\n",
    "r2 = rndm.normal(loc=r, scale=d_r2, size=1000000)\n",
    "forces2 = vforce(G, M21, M22, r2)\n",
    "delta_prop_nom = math.sqrt(np.power((d_M21 / M1), 2) + np.power((d_M22 / M2), 2)) * G * M1 * M2\n",
    "delta_prop_denom = (2 * d_r2 / r) * r\n",
    "dp = math.sqrt((delta_prop_nom / (G * M1 * M2))**2 + (delta_prop_denom / (np.power(r, 2))) ** 2) * force_1\n",
    "#delta_prop2 = math.sqrt(np.power((G * M2 / (r ** 2)) * d_M21, 2) + np.power((G * M1 / (r ** 2)) * d_M22, 2) + np.power((-2 * G * M1 * M2 / (r ** 3)) * d_r2, 2))\n",
    "\n"
   ]
  },
  {
   "cell_type": "code",
   "execution_count": 57,
   "metadata": {},
   "outputs": [
    {
     "data": {
      "image/png": "[encoded data removed]",
      "text/plain": [
       "<Figure size 432x288 with 1 Axes>"
      ]
     },
     "metadata": {
      "needs_background": "light"
     },
     "output_type": "display_data"
    }
   ],
   "source": [
    "#t = plt.hist(forces2, bins=1500, density = True)\n",
    "t = plt.hist(rndm.normal(loc=force_1, scale=dp, size=1000000),bins=1500, normed=True)"
   ]
  }
 ],
 "metadata": {
  "kernelspec": {
   "display_name": "Python 3",
   "language": "python",
   "name": "python3"
  },
  "language_info": {
   "codemirror_mode": {
    "name": "ipython",
    "version": 3
   },
   "file_extension": ".py",
   "mimetype": "text/x-python",
   "name": "python",
   "nbconvert_exporter": "python",
   "pygments_lexer": "ipython3",
   "version": "3.6.7"
  }
 },
 "nbformat": 4,
 "nbformat_minor": 1
}
