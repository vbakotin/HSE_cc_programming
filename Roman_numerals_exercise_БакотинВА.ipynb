{
 "cells": [
  {
   "cell_type": "markdown",
   "metadata": {},
   "source": [
    "# Roman numerals"
   ]
  },
  {
   "cell_type": "markdown",
   "metadata": {},
   "source": [
    "## I. Roman numerals to decimals\n",
    "\n",
    "Write a function which receives a Roman numeral written out as a string, and returns an integer representing the decimal form of the input number. "
   ]
  },
  {
   "cell_type": "code",
   "execution_count": 1,
   "metadata": {},
   "outputs": [],
   "source": [
    "mapping = {\"I\" : 1, \n",
    "           \"V\" : 5,\n",
    "           \"X\" : 10,\n",
    "           \"L\" : 50,\n",
    "           \"C\" : 100,\n",
    "           \"D\" : 500,\n",
    "           \"M\" : 1000}"
   ]
  },
  {
   "cell_type": "code",
   "execution_count": 1,
   "metadata": {},
   "outputs": [],
   "source": [
    "def roman_to_decimal(rom):\n",
    "    \"\"\"Convert a Roman numeral to decimal.\n",
    "    \n",
    "    Parameters\n",
    "    ----------\n",
    "    rom : str\n",
    "        A Roman numeral representing a positive integer.\n",
    "        \n",
    "    Returns\n",
    "    -------\n",
    "    dec : int\n",
    "        The result of conversion of `rom` into a decimal system.\n",
    "    \"\"\"\n",
    "    arr = [1,5,10,50,100,500,1000]\n",
    "    rim = ['I','V','X','L','C','D','M']\n",
    "    trans = dict(zip(rim,arr))\n",
    "    dec = 0\n",
    "    for i in range(len(rom)-1,0,-2):\n",
    "        if trans[rom[i]] > trans[rom[i-1]]:   \n",
    "            temp = trans[rom[i]] - trans[rom[i-1]]          \n",
    "        else:\n",
    "            temp = trans[rom[i]] + trans[rom[i-1]]\n",
    "        dec += temp\n",
    "    if len(rom) % 2 != 0:\n",
    "        dec += trans[rom[0]]\n",
    "    return dec"
   ]
  },
  {
   "cell_type": "markdown",
   "metadata": {},
   "source": [
    "Here are some tests for you to test your code. Your code must pass all of them. You also need to come up with several more tests (your choice)."
   ]
  },
  {
   "cell_type": "code",
   "execution_count": 2,
   "metadata": {},
   "outputs": [
    {
     "name": "stdout",
     "output_type": "stream",
     "text": [
      "True\n",
      "True\n",
      "True\n"
     ]
    }
   ],
   "source": [
    "test_pairs = [(\"IX\", 9), (\"XI\", 11), (\"MCCII\", 1202), (\"MMXVIII\", 2018), (\"XLIX\", 49)]\n",
    "some_more_tests = [('VII',7), (\"MVI\",1006), (\"XLIV\",44)]\n",
    "for rom, dec in some_more_tests:\n",
    "    converted = roman_to_decimal(rom)\n",
    "    print(converted == dec)"
   ]
  },
  {
   "cell_type": "markdown",
   "metadata": {},
   "source": [
    "Now you can run tests in file `tests_roman_to_decimal.txt`. You need to insert a number of false results and listed false results in respective fields in Google Form for this lesson."
   ]
  },
  {
   "cell_type": "code",
   "execution_count": 3,
   "metadata": {},
   "outputs": [
    {
     "name": "stdout",
     "output_type": "stream",
     "text": [
      "47\n",
      "[(165, 145), (2211, 1991), (761, 741), (1248, 1246), (1665, 1465), (661, 461), (763, 743), (713, 493), (263, 243), (1565, 1545), (1711, 1491), (1913, 1893), (1911, 1891), (2161, 1941), (687, 487), (1270, 1273), (1710, 1708), (63, 43), (1163, 943), (84, 81), (261, 241), (267, 247), (1632, 1432), (2125, 1925), (661, 461), (917, 897), (817, 799), (685, 485), (915, 895), (1661, 1461), (213, 193), (1101, 901), (1313, 1293), (567, 547), (2181, 1981), (632, 432), (1267, 1247), (2163, 1943), (429, 430), (1317, 1297), (2138, 1938), (665, 645), (2213, 1993), (2183, 1983), (1811, 1790), (1317, 1297), (1176, 976)]\n"
     ]
    }
   ],
   "source": [
    "import os\n",
    "os.chdir(r'C:\\Users\\vasil\\Desktop\\Lesson 1\\Roman numerals')\n",
    "p_roman = \"tests_roman_to_decimal.txt\"\n",
    "with open(p_roman, \"rb\") as fp_roman:\n",
    "    lines_roman=fp_roman.readlines()\n",
    "\n",
    "test_data_roman = [line.strip().decode(\"ascii\").split(',') for line in lines_roman]\n",
    "test_data_roman = [(line[0], int(line[1])) for line in test_data_roman]\n",
    "\n",
    "fls = 0 # 47 \n",
    "fls_list = [] # [(converted,real),...]\n",
    "for rom, dec in test_data_roman:\n",
    "    converted = roman_to_decimal(rom)\n",
    "    if not converted == dec:\n",
    "        fls += 1\n",
    "        fls_list.append((converted,dec))\n",
    "        \n",
    "print(fls)\n",
    "print(fls_list)\n",
    "        "
   ]
  },
  {
   "cell_type": "markdown",
   "metadata": {},
   "source": [
    "## II. Decimal numbers to roman numerals.\n",
    "\n",
    "The maximum grade for first task (Roman to decimal) is 7 on the 10-point HSE scale. For extra credit, complete the second task: *given a decimal number, convert it to the Roman form*."
   ]
  },
  {
   "cell_type": "code",
   "execution_count": 4,
   "metadata": {},
   "outputs": [],
   "source": [
    "def decimal_to_roman(dec,rom:str,ns:str):\n",
    "    \"\"\"Convert a decimal to the Roman form.\n",
    "    \n",
    "    Parameters\n",
    "    ----------\n",
    "    dec : int\n",
    "        A positive integer number\n",
    "    rom : str\n",
    "        Initially a blank str\n",
    "    ns : str\n",
    "        Auxiliary initially blank str\n",
    "    Returns\n",
    "    -------\n",
    "    rom : str\n",
    "        A string representation of a Roman numeral form of `dec`.\n",
    "    \"\"\"\n",
    "    arr = [1,5,10,50,100,500,1000]\n",
    "    rim = ['I','V','X','L','C','D','M']\n",
    "    trans = dict(zip(arr,rim))\n",
    "    def get_sign(n):\n",
    "        '''returns 0 if n<0 and 1 otherwise'''\n",
    "        if n < 0:\n",
    "            return 0\n",
    "        return 1\n",
    "    def find_closest_key(num):\n",
    "        '''returns a key of trans which is closest to input dec number'''\n",
    "        closest = [(abs(int(i)-num), get_sign(int(i)-num)) for i in list(trans.keys())]  # разности на ключах \n",
    "        ind_closest = closest.index(min(closest, key = lambda t: t[0]))\n",
    "        min_diff = closest[ind_closest][0]\n",
    "        if closest[ind_closest][1] == 0:\n",
    "            key_closest = - min_diff + num \n",
    "        else:\n",
    "            key_closest = min_diff + num\n",
    "        return key_closest    \n",
    "    key_closest = find_closest_key(dec)\n",
    "    if dec < key_closest:\n",
    "        rd_num = key_closest // dec # number of corresponding rom digits in output string  \n",
    "        new_dec = key_closest % dec # residual is a new input for recursion\n",
    "        if ns != '':\n",
    "            ns = ns[:-1] + (trans[key_closest]) * rd_num + ns[-1]\n",
    "        else:\n",
    "            ns = (trans[key_closest]) * rd_num \n",
    "    else:\n",
    "        rd_num = dec // key_closest  # number of corresponding rom digits in output string  \n",
    "        new_dec = dec % key_closest # residual is a new input for recursion\n",
    "        rom += (trans[key_closest]) * rd_num \n",
    "        if ns != '':\n",
    "            rom += ns \n",
    "            ns = '' \n",
    "    if new_dec == 0:\n",
    "        return rom + ns\n",
    "    else:\n",
    "        return decimal_to_roman(new_dec,rom,ns)\n",
    "    \n",
    "    \n",
    "\n",
    "        "
   ]
  },
  {
   "cell_type": "markdown",
   "metadata": {},
   "source": [
    "You need to come up with test cases to show that your conversion works as expected. \n",
    "NB: the conversion is ambiguous in some cases. Any valid conversion is accepted. "
   ]
  },
  {
   "cell_type": "markdown",
   "metadata": {},
   "source": [
    "Now you can run tests in file `tests_decimal_to_roman.txt`. You need to insert a number of false results and listed false results in respective fields in Google Form for this lesson."
   ]
  },
  {
   "cell_type": "code",
   "execution_count": 5,
   "metadata": {},
   "outputs": [
    {
     "name": "stdout",
     "output_type": "stream",
     "text": [
      "198\n",
      "[('CMIIX', 892), ('CCIXL', 241), ('MDCCXLVII', 1733), ('CDLXII', 338), ('MXDVI', 1484), ('CCMXLIII', 763), ('MCMXIV', 1886), ('CMXXC', 820), ('CCMXXIII', 777), ('MCMXIIX', 1882), ('XXMVII', 973), ('XLMII', 962), ('MCCXCI', 1289), ('MXCDV', 1415), ('MLDXIII', 1437), ('DXLVI', 534), ('DCXLII', 638), ('CXLIX', 131), ('MDXCIII', 1587), ('MCCIVC', 1296), ('MLMX', 1940), ('CDLIII', 347), ('DCCXXIIX', 728), ('MCDIIIC', 1303), ('CCM', 800), ('MXXMIIX', 1972), ('MDIIIL', 1547), ('ICD', 401), ('CXCVII', 183), ('XXMII', 978), ('MDXXCI', 1579), ('DCCIIXL', 742), ('MCMLIX', 1841), ('CDLXIV', 336), ('MCXXCIV', 1176), ('XLMIIX', 968), ('CDXCII', 312), ('CCXCIIX', 282), ('MCDXXX', 1370), ('CXLIIX', 132), ('MLMXVII', 1933), ('MVCII', 1093), ('MCIC', 1199), ('CMLXV', 835), ('MCMXCIV', 1814), ('XXDII', 478), ('CCMVI', 794), ('MCMXCVI', 1816), ('MCCMXXX', 1770), ('MDXLI', 1539), ('XLDVII', 467), ('CMIIC', 802), ('MCMVCII', 1807), ('CMXXII', 878), ('MXXDVII', 1473), ('CMIL', 851), ('DVLI', 544), ('DCLIIX', 658), ('XDIII', 487), ('MDVC', 1595), ('MVCII', 1093), ('MCDIIL', 1352), ('CDLVI', 344), ('MCXXC', 1180), ('MXXMIV', 1976), ('IVM', 996), ('CIL', 149), ('MXMV', 1985), ('MCCMXL', 1760), ('MCMIVC', 1804), ('LDXIX', 431), ('MDXXCII', 1578), ('CDXXI', 379), ('MCDIIXL', 1358), ('MCDVI', 1394), ('MDCXLI', 1639), ('CMXXIII', 877), ('MXXMII', 1978), ('CDXIII', 387), ('DCLXIIX', 668), ('DCXIIX', 618), ('MLMXIV', 1936), ('DCLIIX', 658), ('VLDI', 456), ('MDIVL', 1546), ('XXCII', 78), ('MCDXLI', 1361), ('DCCXLII', 738), ('MCDXLII', 1362), ('XXCMI', 921), ('CCMXLIII', 763), ('MXLMVII', 1967), ('CDLXIIX', 332), ('LMXXV', 925), ('CXLIX', 131), ('MICVM', 1904), ('CCMI', 799), ('CDLXIIX', 332), ('XXMVI', 974), ('MCMIII', 1897), ('CDV', 395), ('MDIIIC', 1597), ('LMXX', 930), ('MCVLI', 1144), ('MCDXXIX', 1371), ('CDIIC', 302), ('XLDII', 462), ('MIICD', 1402), ('ILVM', 954), ('MXXXD', 1470), ('MLDXXI', 1429), ('XM', 990), ('MDIXL', 1541), ('CCMXLVI', 766), ('IICXD', 408), ('CXCI', 189), ('CDIXC', 309), ('XXIIX', 28), ('DCXXCII', 678), ('MXDVII', 1483), ('MXXCII', 1078), ('MVCII', 1093), ('CMLXIII', 837), ('MCMVCII', 1807), ('MXMVI', 1984), ('MCDXXV', 1375), ('CMLXX', 830), ('MXDVI', 1484), ('MCMXLIIX', 1868), ('MCCIXC', 1291), ('MXXCMIII', 1923), ('MDVCI', 1594), ('CCMXLVII', 767), ('DVCI', 594), ('MXDI', 1489), ('CMLIX', 841), ('DXXCI', 579), ('CDXXV', 375), ('MIIIM', 1997), ('MDCXLIV', 1636), ('MDIL', 1549), ('MCDIV', 1396), ('MCCMXIV', 1786), ('MXLIIX', 1032), ('LMXIV', 936), ('XXIIX', 28), ('DCXXCII', 678), ('XLDIX', 469), ('MILXM', 1959), ('CCMVLI', 756), ('MIIC', 1098), ('MCCXLIII', 1237), ('MIIM', 1998), ('IXM', 991), ('CXLV', 135), ('CDXVI', 384), ('MDCXCIII', 1687), ('MVD', 1495), ('CIIC', 198), ('MCDLV', 1345), ('MVMI', 1994), ('MIIIM', 1997), ('MCMXX', 1880), ('DIVC', 596), ('MCMXXVI', 1874), ('MXCIII', 1087), ('MDXIIX', 1518), ('MCDLXXIII', 1327), ('MCXCIIX', 1182), ('MCDLIV', 1346), ('MCIVC', 1196), ('MDCXXCIV', 1676), ('XMIX', 981), ('DCIXC', 691), ('DCIIIC', 697), ('DXCII', 588), ('MXLMIV', 1964), ('MCCMXXX', 1770), ('MDCXCIIX', 1682), ('CCXIIX', 218), ('MCIL', 1149), ('DCXXCI', 679), ('MCMXIX', 1881), ('MLMX', 1940), ('XXMIII', 977), ('MDCVL', 1645), ('MCMIIXC', 1808), ('XLVII', 33), ('MXXMV', 1975), ('MCMXVI', 1884), ('VCMI', 906), ('MCMXXX', 1870), ('ILXM', 959), ('MCXXCIII', 1177), ('MCMXCIV', 1814), ('MCMLI', 1849), ('MXLDIX', 1469), ('MDCXIIX', 1618)]\n"
     ]
    }
   ],
   "source": [
    "p_decimal = \"tests_decimal_to_roman.txt\"\n",
    "with open(p_decimal, \"rb\") as fp_decimal:\n",
    "    lines_decimal=fp_decimal.readlines()\n",
    "\n",
    "test_data_decimal = [line.strip().decode(\"ascii\").split(',') for line in lines_decimal]\n",
    "test_data_decimal = [(line[0], int(line[1])) for line in test_data_decimal]\n",
    "fls = 0 \n",
    "fls_list = []\n",
    "for rom, dec in test_data_decimal:\n",
    "    converted = decimal_to_roman(dec,'','')\n",
    "    if converted != rom:\n",
    "        fls += 1\n",
    "        fls_list.append((converted,dec))\n",
    "        \n",
    "print(fls)\n",
    "print(fls_list)\n"
   ]
  }
 ],
 "metadata": {
  "kernelspec": {
   "display_name": "Python 3",
   "language": "python",
   "name": "python3"
  },
  "language_info": {
   "codemirror_mode": {
    "name": "ipython",
    "version": 3
   },
   "file_extension": ".py",
   "mimetype": "text/x-python",
   "name": "python",
   "nbconvert_exporter": "python",
   "pygments_lexer": "ipython3",
   "version": "3.6.7"
  }
 },
 "nbformat": 4,
 "nbformat_minor": 2
}
