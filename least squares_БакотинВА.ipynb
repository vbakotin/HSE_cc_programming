{
 "cells": [
  {
   "cell_type": "markdown",
   "metadata": {},
   "source": [
    "# Linear (ordinary) least squares"
   ]
  },
  {
   "cell_type": "markdown",
   "metadata": {},
   "source": [
    "Suppose we have a set of points $\\left\\{ (x_i, y_i), i = 1, \\ldots, n \\right\\}$ and a functional form $f(x, \\vec \\beta)$, where $\\vec \\beta$ is a vector of parameters."
   ]
  },
  {
   "cell_type": "markdown",
   "metadata": {},
   "source": [
    "Then, *least squares approximation* is a problem of finding $\\vec \\beta$ by minimising function\n",
    "$$ \\xi (\\vec \\beta) = \\sum\\limits_{i = 1}^n \\left| y_i - f(x_i, \\vec \\beta) \\right|^2 $$"
   ]
  },
  {
   "cell_type": "markdown",
   "metadata": {},
   "source": [
    "Least squares approximation becomes *linear (or ordinary)* when we assume that $f(x, \\vec \\beta)$ is a linear function of $\\vec \\beta$: \n",
    "$$f(x, \\vec \\beta) = \\sum \\limits_{j = 1}^m \\beta_j \\varphi_j (x),$$\n",
    "where $\\varphi_j (x)$ are called basis functions which do not need to be linear ($x^k$, $e^{i \\alpha_k x}$ etc.)."
   ]
  },
  {
   "cell_type": "markdown",
   "metadata": {},
   "source": [
    "We minimize with respect to $\\vec \\beta$\n",
    "$$ \\xi (\\vec \\beta) = \\sum\\limits_{i = 1}^n \\left| y_i - \\left( \\beta_1 \\varphi_1(x) + \\ldots + \\beta_m \\varphi_m(x) \\right) \\right|^2 .$$\n",
    "It can be represented as \n",
    "$$\\xi (\\vec \\beta) = || \\vec y - A \\vec \\beta ||^2,$$\n",
    "if we suppose that a vector norm $||\\vec a|| = \\sqrt{\\sum\\limits_{i = 1}^n |a_i|^2}$ and *the design matrix*\n",
    "$$ A = \\begin{pmatrix} \n",
    "            \\varphi_1(x_1) & \\varphi_2(x_1) & \\ldots & \\varphi_m(x_1) \\\\\n",
    "            \\varphi_1(x_2) & \\varphi_2(x_2) & \\ldots & \\varphi_m(x_2) \\\\\n",
    "            \\vdots & \\vdots & \\ddots & \\vdots \\\\\n",
    "            \\varphi_1(x_n) & \\varphi_2(x_n) & \\ldots & \\varphi_m(x_n) \\\\\n",
    "        \\end{pmatrix}.$$"
   ]
  },
  {
   "cell_type": "markdown",
   "metadata": {},
   "source": [
    "To minimize $\\xi (\\vec \\beta)$ we set \n",
    "$$\\cfrac{\\partial}{\\partial \\beta_k} \\xi (\\vec \\beta) = 0, \\; k = 1, \\ldots, m, $$\n",
    "and obtain *the normal equation*\n",
    "$$A^T A \\vec \\beta = A^T \\vec y.$$"
   ]
  },
  {
   "cell_type": "markdown",
   "metadata": {},
   "source": [
    "If $A$ is poorly conditioned, then solving this matrix equation becomes a big problem. In this case QR decomposition of $A$ is often used. The design matrix can be represented as \n",
    "$$A = Q \\cdot R,$$\n",
    "where $Q$ is orthoginal ($Q^T Q = 1$), and $R$ is upper triangular."
   ]
  },
  {
   "cell_type": "markdown",
   "metadata": {},
   "source": [
    "Since $m < n$ last $n-m$ rows of $R$ are zero:\n",
    "$$A = Q \\cdot \\begin{pmatrix} \n",
    "                    R_1 \\\\\n",
    "                    0 \\\\\n",
    "                \\end{pmatrix}.$$\n",
    "Recall tht matrix $Q$ is a rotation operator, and introduced norm of a vector is invariant to rotation. Then, we rotate the residual $\\vec y - A \\vec \\beta$:\n",
    "$$\\xi (\\vec \\beta) = || \\vec y - A \\vec \\beta ||^2 = || Q^T \\left( \\vec y - A \\vec \\beta \\right) ||^2 = || Q^T \\vec y - \\begin{pmatrix} \n",
    "    R_1 \\\\\n",
    "    0 \\\\\n",
    "\\end{pmatrix} \\vec \\beta ||^2. $$"
   ]
  },
  {
   "cell_type": "markdown",
   "metadata": {},
   "source": [
    "Let us write \n",
    "$$Q^T \\vec y = \\begin{pmatrix} \n",
    "                    \\vec f \\\\\n",
    "                    \\vec r \\\\\n",
    "                \\end{pmatrix},$$\n",
    "where $\\mbox{dim} \\vec f = m$.\n",
    "\n",
    "This way,\n",
    "$$\\xi ( \\vec \\beta ) = ||\\vec f - R_1 \\vec \\beta||^2 + ||\\vec r||^2 \\rightarrow \\min \\Leftrightarrow R_1 \\vec \\beta = \\vec f.$$\n",
    "\n",
    "The last equation is solved by back substitution."
   ]
  },
  {
   "cell_type": "markdown",
   "metadata": {},
   "source": [
    "## Task"
   ]
  },
  {
   "cell_type": "markdown",
   "metadata": {},
   "source": [
    "Let the basis function be $x^k, \\; k = 0, \\ldots, m$. Write function that finds $\\vec \\beta$ for $m = 1, 2, 3$."
   ]
  },
  {
   "cell_type": "code",
   "execution_count": 14,
   "metadata": {},
   "outputs": [],
   "source": [
    "import numpy as np\n",
    "from scipy.linalg import qr, inv\n",
    "def linear_least_squares(m, xdata, ydata): \n",
    "    A = np.zeros((xdata.shape[0], m+1))\n",
    "    for i in range(xdata.shape[0]):\n",
    "        A[i] = np.array([xdata[i] ** k for k in range(0, m+1)])\n",
    "    Q, R = np.linalg.qr(A)\n",
    "    beta = np.linalg.inv(R) @ Q.T @ ydata\n",
    "    return beta\n",
    "    "
   ]
  },
  {
   "cell_type": "markdown",
   "metadata": {},
   "source": [
    "Now implement your function to approximate real data."
   ]
  },
  {
   "cell_type": "code",
   "execution_count": 15,
   "metadata": {},
   "outputs": [
    {
     "data": {
      "image/png": "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\n",
      "text/plain": [
       "<Figure size 432x288 with 1 Axes>"
      ]
     },
     "metadata": {
      "needs_background": "light"
     },
     "output_type": "display_data"
    }
   ],
   "source": [
    "from sklearn import datasets\n",
    "import matplotlib.pyplot as plt\n",
    "%matplotlib inline\n",
    "diabetes = datasets.load_iris()\n",
    "X = diabetes.data\n",
    "y = diabetes.target\n",
    "\n",
    "ydata = X[:100,-1]\n",
    "xdata = X[:100,0]\n",
    "\n",
    "plt.plot(xdata, ydata, 'o', label='Original data', markersize=10)\n",
    "plt.grid(True)\n",
    "plt.legend()\n",
    "plt.show()"
   ]
  },
  {
   "cell_type": "markdown",
   "metadata": {},
   "source": [
    "Plot the resulting functions."
   ]
  },
  {
   "cell_type": "code",
   "execution_count": 16,
   "metadata": {},
   "outputs": [
    {
     "data": {
      "text/plain": [
       "array([-5.90029892,  1.73840674, -0.09309726])"
      ]
     },
     "execution_count": 16,
     "metadata": {},
     "output_type": "execute_result"
    }
   ],
   "source": [
    "beta = np.asarray(linear_least_squares(2, xdata, ydata))\n",
    "beta"
   ]
  },
  {
   "cell_type": "markdown",
   "metadata": {},
   "source": [
    "Output the comma-separated list of coefficients before $x$. You will need this for Google Form."
   ]
  },
  {
   "cell_type": "code",
   "execution_count": 17,
   "metadata": {},
   "outputs": [
    {
     "name": "stdout",
     "output_type": "stream",
     "text": [
      "0.6954194559668743,1.7384067440850202,-29.79937390675109\n"
     ]
    }
   ],
   "source": [
    "coefs = []\n",
    "\n",
    "# assuming that beta[1] is always a coefficient before x\n",
    "for m in range(1, 4):\n",
    "    coefs.append(str(linear_least_squares(m, xdata, ydata)[1]))\n",
    "    \n",
    "print(\",\".join(coefs))"
   ]
  },
  {
   "cell_type": "markdown",
   "metadata": {},
   "source": [
    "Output the comma-separated list of average quadratic deviations. You will need this for Google Form.\n",
    "\n",
    "*Reminder*: Average quadratic deviation = $\\cfrac{1}{n} \\sum\\limits_{i = 1}^{n} \\left| y_i - f(x_i, \\vec \\beta) \\right|^2 $, where $n$ is the number of observations."
   ]
  },
  {
   "cell_type": "code",
   "execution_count": 18,
   "metadata": {},
   "outputs": [
    {
     "name": "stdout",
     "output_type": "stream",
     "text": [
      "0.11905675675012693,0.11723045717241184,0.10488910133708079\n"
     ]
    },
    
   ],
   "source": [
    "aqds = []\n",
    "\n",
    "for m in range(1, 4):\n",
    "    beta = linear_least_squares(m, xdata, ydata)\n",
    "    cur_aqd = np.sum((ydata - beta @ [xdata ** i for i in range(m+1)]) ** 2) / xdata.shape[0]   \n",
    "    aqds.append(str(cur_aqd))\n",
    "    \n",
    "print(\",\".join(aqds))\n"
   ]
  }
 ],
 "metadata": {
  "kernelspec": {
   "display_name": "Python 3",
   "language": "python",
   "name": "python3"
  },
  "language_info": {
   "codemirror_mode": {
    "name": "ipython",
    "version": 3
   },
   "file_extension": ".py",
   "mimetype": "text/x-python",
   "name": "python",
   "nbconvert_exporter": "python",
   "pygments_lexer": "ipython3",
   "version": "3.7.1"
  }
 },
 "nbformat": 4,
 "nbformat_minor": 2
}
