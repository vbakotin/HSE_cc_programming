{
 "cells": [
  {
   "cell_type": "markdown",
   "metadata": {},
   "source": [
    "## Solve a quadratic equation, $x^2 + b x + c = 0$."
   ]
  },
  {
   "cell_type": "code",
   "execution_count": 12,
   "metadata": {},
   "outputs": [],
   "source": [
    "import math, cmath\n",
    "def solve_quad(b, c):\n",
    "    \"\"\"Solve a quadratic equation, x**2 + bx + c = 0.\n",
    "    \n",
    "    Parameters\n",
    "    ----------\n",
    "    b, c : float\n",
    "       Coefficients\n",
    "       \n",
    "    Returns\n",
    "    -------\n",
    "    x1, x2 : float or complex\n",
    "       Roots.\n",
    "    \"\"\"\n",
    "    def check_vieta(x1,x2,b,c):\n",
    "        if x1 + x2 == -b and x1*x2 == c:\n",
    "            return True\n",
    "        return False\n",
    "    d = b**2 - 4*c\n",
    "    if d > 0:\n",
    "        x1 = (-b + math.sqrt(d)) / 2      \n",
    "        x2 = (-b - math.sqrt(d)) / 2\n",
    "    elif d == 0:\n",
    "        x1 = -b / 2\n",
    "        x2 = x1\n",
    "    else:\n",
    "        x1 = (-b + cmath.sqrt(d)) / 2\n",
    "        x2 = (-b - cmath.sqrt(d)) / 2\n",
    "    if not check_vieta(x1,x2,b,c):\n",
    "        try:\n",
    "            x1 = c / x2\n",
    "        except ZeroDivisionError:\n",
    "            x2 = c / x1            \n",
    "    return x1,x2\n"
   ]
  },
  {
   "cell_type": "markdown",
   "metadata": {},
   "source": [
    "Test the function"
   ]
  },
  {
   "cell_type": "code",
   "execution_count": 2,
   "metadata": {},
   "outputs": [],
   "source": [
    "from numpy import allclose"
   ]
  },
  {
   "cell_type": "code",
   "execution_count": 10,
   "metadata": {},
   "outputs": [],
   "source": [
    "variants = [{'b': 4.0, 'c': 3.0},\n",
    "            {'b': 2.0, 'c': 1.0},\n",
    "            {'b': 0.5, 'c': 4.0},\n",
    "            {'b': 1e10, 'c': 3.0},\n",
    "            {'b': -1e10, 'c': 4.0},]"
   ]
  },
  {
   "cell_type": "code",
   "execution_count": 13,
   "metadata": {},
   "outputs": [
    {
     "name": "stdout",
     "output_type": "stream",
     "text": [
      "-1.0 -3.0\n",
      "True\n",
      "-1.0 -1.0\n",
      "True\n",
      "(-0.25+1.984313483298443j) (-0.25-1.984313483298443j)\n",
      "True\n",
      "-3e-10 -10000000000.0\n",
      "True\n",
      "10000000000.0 4e-10\n",
      "True\n"
     ]
    }
   ],
   "source": [
    "for var in variants:\n",
    "    x1, x2 = solve_quad(**var)\n",
    "    print(x1,x2)\n",
    "    print(allclose(x1*x2, var['c']))  #vieta"
   ]
  },
  {
   "cell_type": "markdown",
   "metadata": {},
   "source": [
    "You will need to list solutions for last test's parameters (`{'b': -1e10, 'c': 4.0}`) in order to put them in respective field in Google Form for this lesson."
   ]
  },
  {
   "cell_type": "code",
   "execution_count": null,
   "metadata": {},
   "outputs": [],
   "source": [
    "# 10000000000.0 4e-10\n"
   ]
  }
 ],
 "metadata": {
  "kernelspec": {
   "display_name": "Python 3",
   "language": "python",
   "name": "python3"
  },
  "language_info": {
   "codemirror_mode": {
    "name": "ipython",
    "version": 3
   },
   "file_extension": ".py",
   "mimetype": "text/x-python",
   "name": "python",
   "nbconvert_exporter": "python",
   "pygments_lexer": "ipython3",
   "version": "3.6.7"
  }
 },
 "nbformat": 4,
 "nbformat_minor": 2
}
